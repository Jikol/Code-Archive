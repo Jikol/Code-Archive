{
 "cells": [
  {
   "cell_type": "markdown",
   "source": [
    "### Graph representaion class with NetworkX package\n",
    "*requests as input a list of edges with a possible rating in the third column, or matrix market format*"
   ],
   "metadata": {
    "collapsed": false
   }
  },
  {
   "cell_type": "code",
   "execution_count": 10,
   "outputs": [],
   "source": [
    "import csv, enum, inspect\n",
    "import numpy as np\n",
    "import networkx as nx\n",
    "import matplotlib.pyplot as plt\n",
    "from dataclasses import dataclass\n",
    "from scipy.io import mmread\n",
    "from networkx.algorithms import community as cmnt\n",
    "\n",
    "\n",
    "class Graph:\n",
    "    \"\"\"\n",
    "    Graph representation using NetworkX accepting two types of data files as input\n",
    "    [csv, mtx (coordinate format!)]\n",
    "    \"\"\"\n",
    "\n",
    "    G = nx.Graph()  # networkx graph representation\n",
    "    __communities = {\"k_clique\": None, \"louvain\": None, \"kernighan\": None}\n",
    "\n",
    "    class InputType:\n",
    "        \"\"\"Enum which represent extension of data file\"\"\"\n",
    "\n",
    "        class Extension(enum.Enum):\n",
    "            CSV = \"CSV\"\n",
    "            MTX = \"MATRIX_MARKET\"\n",
    "\n",
    "        class ColumnTypes(enum.Enum):\n",
    "            SOURCE = \"SOURCE\"\n",
    "            TARGET = \"TARGET\"\n",
    "            WEIGHT = \"WEIGHT\"\n",
    "\n",
    "        __extension = None\n",
    "        __file_structure = ()\n",
    "\n",
    "        def __init__(self, extension: Extension, data_type: tuple | None = None):\n",
    "            if data_type:\n",
    "                if not isinstance(data_type, tuple):\n",
    "                    data_type = (data_type,)\n",
    "                assert (\n",
    "                    len(data_type) >= 2\n",
    "                ), f\"at least two types of columns are required\"\n",
    "                assert all(isinstance(val, self.ColumnTypes) for val in data_type), (\n",
    "                    f\"{list(inspect.signature(self.__init__).parameters.keys())[1]} \"\n",
    "                    f\"must be instance of {self.ColumnTypes.__class__}\"\n",
    "                )\n",
    "                assert len(set(data_type)) == len(data_type), (\n",
    "                    f\"column type values {[val.name for val in data_type]} must be mutually \"\n",
    "                    f\"disjunctive\"\n",
    "                )\n",
    "            self.__extension = extension\n",
    "            self.__file_structure = data_type\n",
    "\n",
    "        @property\n",
    "        def ext(self) -> Extension:\n",
    "            return self.__extension\n",
    "\n",
    "        @property\n",
    "        def struct(self) -> dict:\n",
    "            return self.__file_structure\n",
    "\n",
    "    def __init__(\n",
    "        self,\n",
    "        file_path: str,\n",
    "        type: InputType.Extension,\n",
    "        struct: tuple | None = (),\n",
    "        delim: str | None = \",\",\n",
    "        has_header: bool | None = False,\n",
    "    ):\n",
    "        match type:\n",
    "            case self.InputType.Extension.CSV:\n",
    "                with open(file_path) as f:\n",
    "                    data = csv.reader(f, delimiter=delim)\n",
    "                    for i, row in enumerate(data):\n",
    "                        if has_header and i == 0:\n",
    "                            continue\n",
    "                        data = {\"weight\": 1}\n",
    "                        try:\n",
    "                            for n in range(len(struct)):\n",
    "                                self.__process_column_type(data, row, struct, n)\n",
    "                        except IndexError as ex:\n",
    "                            raise Exception(\n",
    "                                f\"you cannot define [{len(struct)}] types of columns, \"\n",
    "                                f\"but your file has only [{len(row)}] columns\"\n",
    "                            )\n",
    "                        self.G.add_edge(\n",
    "                            u_of_edge=data[\"source\"],\n",
    "                            v_of_edge=data[\"target\"],\n",
    "                            weight=data[\"weight\"],\n",
    "                        )\n",
    "            case self.InputType.Extension.MTX:\n",
    "                try:\n",
    "                    self.G = nx.from_scipy_sparse_array(mmread(file_path))\n",
    "                except:\n",
    "                    raise Exception(\n",
    "                        f\"inputed file {file_path} is not in standardized MTX format, \"\n",
    "                        f\"which starts with `%%MatrixMarket` sequence - check your file\"\n",
    "                    )\n",
    "\n",
    "    @property\n",
    "    def communities(self) -> dict:\n",
    "        pass\n",
    "        # if self.__communities.get(\"k_clique\")\n",
    "        # return\n",
    "\n",
    "    def __process_column_type(\n",
    "        self, data: dict, row: list, struct: tuple, i: int\n",
    "    ) -> None:\n",
    "        if struct[i].name == self.InputType.ColumnTypes.SOURCE.name:\n",
    "            data[\"source\"] = row[i]\n",
    "        if struct[i].name == self.InputType.ColumnTypes.TARGET.name:\n",
    "            data[\"target\"] = row[i]\n",
    "        if struct[i].name == self.InputType.ColumnTypes.WEIGHT.name:\n",
    "            data[\"weight\"] = row[i]"
   ],
   "metadata": {
    "collapsed": false
   }
  },
  {
   "cell_type": "markdown",
   "source": [
    "### Instantiate graph class and show its content"
   ],
   "metadata": {
    "collapsed": false
   }
  },
  {
   "cell_type": "code",
   "execution_count": null,
   "outputs": [],
   "source": [
    "type = Graph.InputType(extension=Graph.InputType.Extension.MTX)\n",
    "g = Graph(file_path=\"Emails.mtx\", type=type.ext)\n",
    "g.G.nodes(data=True)\n",
    "g.G.edges(data=True)"
   ],
   "metadata": {
    "collapsed": false,
    "pycharm": {
     "is_executing": true
    }
   }
  },
  {
   "cell_type": "code",
   "execution_count": 15,
   "outputs": [],
   "source": [
    "class Utilities:\n",
    "    def __init__(self):\n",
    "        pass\n",
    "\n",
    "    def starts_with_comment(self, line):\n",
    "        symbols = ['#', '*', '\"']\n",
    "        for symbol in symbols:\n",
    "            if line.startswith(symbol):\n",
    "                return False\n",
    "        return True\n",
    "\n",
    "    def get_data(self, path: str = None, filetype: str = '.txt', encoding: str = 'utf-8', delimiter: str = ','):\n",
    "        '''Retrieves data from given path.\n",
    "\n",
    "        Args:\n",
    "            path (str, required): Path of the supplied file in string format. Defaults to None (leaving path as None raises a ValueError).\n",
    "            filetype (str, optional): Filetype of the supplied file. Must be correctly set to correspond with the actual filetype, otherwises raises a ValueError. Defaults to '.txt'.\n",
    "            encoding (str, optional): Encoding of the file. Defaults to 'utf-8'.\n",
    "            delimiter (str, optional): Separator for when supplied file is of .csv type. Defaults to '\\t'.\n",
    "\n",
    "        Raises:\n",
    "            ValueError: When path (required argument) is not specified or set to an unsupported type.\n",
    "\n",
    "        Returns:\n",
    "            list: A list of rows returned from supplied file - format of returned rows is dependend on chosen filetype.\n",
    "        '''\n",
    "        self.path = path\n",
    "        self.filetype = filetype\n",
    "        self.encoding = encoding\n",
    "        with open(path, 'r', encoding=encoding) as r:\n",
    "            if filetype == '.txt':\n",
    "                data = r.readlines()\n",
    "                return np.array(\n",
    "                    [[int(y) for y in x.split()] for x in data if\n",
    "                     self.starts_with_comment(x)])\n",
    "\n",
    "            elif filetype == '.csv':\n",
    "                data = csv.reader(r, delimiter=delimiter)\n",
    "                return np.array(\n",
    "                    [[int(y) for y in x] for x in data if\n",
    "                     self.starts_with_comment(x[0])])\n",
    "\n",
    "            else:\n",
    "                pass\n",
    "\n",
    "def get_graph(data):\n",
    "    graph = nx.Graph()\n",
    "    try:\n",
    "        graph.add_edges_from(data)\n",
    "    except [ValueError, TypeError]:\n",
    "        exit('Wrong data format.')\n",
    "    return graph\n",
    "\n",
    "data = Utilities()\n",
    "data = data.get_data(path=\"Email-Enron.txt\")\n",
    "g = get_graph(data)"
   ],
   "metadata": {
    "collapsed": false
   }
  },
  {
   "cell_type": "markdown",
   "source": [
    "### Computation blocks"
   ],
   "metadata": {
    "collapsed": false
   }
  },
  {
   "cell_type": "code",
   "execution_count": 46,
   "outputs": [],
   "source": [
    "# Louvain-Method\n",
    "community = cmnt.label_propagation_communities(g)\n",
    "modularita = cmnt.modularity(g, community)"
   ],
   "metadata": {
    "collapsed": false
   }
  },
  {
   "cell_type": "code",
   "execution_count": 48,
   "outputs": [],
   "source": [
    "community = cmnt.louvain_communities(g, seed=100)\n",
    "modularita = cmnt.modularity(g, community)"
   ],
   "metadata": {
    "collapsed": false
   }
  },
  {
   "cell_type": "markdown",
   "source": [
    "### Printing information block"
   ],
   "metadata": {
    "collapsed": false
   }
  },
  {
   "cell_type": "code",
   "execution_count": 43,
   "outputs": [
    {
     "name": "stdout",
     "output_type": "stream",
     "text": [
      "1236\n",
      "29.686084142394822\n",
      "2\n",
      "5131\n",
      "0.6159506101187202\n"
     ]
    }
   ],
   "source": [
    "# SUMMARY\n",
    "print(len(community))\n",
    "print(sum(len(c) for c in community) / len(community))\n",
    "print(min(len(c) for c in community))\n",
    "print(max(len(c) for c in community))\n",
    "print(modularita)"
   ],
   "metadata": {
    "collapsed": false
   }
  },
  {
   "cell_type": "code",
   "execution_count": 40,
   "outputs": [],
   "source": [
    "# BAR PLOT\n",
    "%matplotlib qt\n",
    "data = {}\n",
    "for i, x in enumerate(community):\n",
    "    data[f\"{i}\"] = len(x)\n",
    "communities = list(data.keys())\n",
    "length = list(data.values())\n",
    "\n",
    "plt.figure(figsize=(10, 5))\n",
    "plt.bar(communities, length, width=0.4)\n",
    "plt.ylabel(\"Size of the community\")\n",
    "plt.xlabel(\"No. of community\")\n",
    "plt.title(\"Distribution of community size\")\n",
    "plt.xticks(rotation=30)\n",
    "plt.tick_params(bottom=False, labelbottom=False)\n",
    "plt.show()"
   ],
   "metadata": {
    "collapsed": false
   }
  },
  {
   "cell_type": "code",
   "execution_count": 50,
   "outputs": [],
   "source": [
    "# GRAPH VIZUALIZATION\n",
    "def assign_node_comm(G, communities) -> None:\n",
    "    for i, x in enumerate(communities):\n",
    "        for j in x:\n",
    "            G.nodes[j][\"community\"] = i + 1\n",
    "\n",
    "\n",
    "def assign_edge_comm(G) -> None:\n",
    "    for (\n",
    "        i,\n",
    "        x,\n",
    "    ) in G.edges:\n",
    "        if G.nodes[i][\"community\"] == G.nodes[x][\"community\"]:\n",
    "            G.edges[i, x][\"community\"] = G.nodes[i][\"community\"]\n",
    "        else:\n",
    "            G.edges[i, x][\"community\"] = 0\n",
    "\n",
    "\n",
    "assign_node_comm(g, community)\n",
    "assign_edge_comm(g)\n",
    "\n",
    "name = input(\"Choose a name for community visualisation GEXF file\")\n",
    "nx.write_gexf(g, f\"{name}.gexf\")"
   ],
   "metadata": {
    "collapsed": false
   }
  }
 ],
 "metadata": {
  "kernelspec": {
   "display_name": "Python 3 (ipykernel)",
   "language": "python",
   "name": "python3"
  },
  "language_info": {
   "codemirror_mode": {
    "name": "ipython",
    "version": 3
   },
   "file_extension": ".py",
   "mimetype": "text/x-python",
   "name": "python",
   "nbconvert_exporter": "python",
   "pygments_lexer": "ipython3",
   "version": "3.10.8"
  }
 },
 "nbformat": 4,
 "nbformat_minor": 1
}
