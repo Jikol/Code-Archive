{
 "cells": [
  {
   "cell_type": "code",
   "execution_count": 1,
   "id": "53b84c2d",
   "metadata": {
    "pycharm": {
     "is_executing": true
    }
   },
   "outputs": [
    {
     "ename": "ModuleNotFoundError",
     "evalue": "No module named 'matplotlib'",
     "output_type": "error",
     "traceback": [
      "\u001b[1;31m---------------------------------------------------------------------------\u001b[0m",
      "\u001b[1;31mModuleNotFoundError\u001b[0m                       Traceback (most recent call last)",
      "Cell \u001b[1;32mIn [1], line 2\u001b[0m\n\u001b[0;32m      1\u001b[0m \u001b[38;5;28;01mimport\u001b[39;00m \u001b[38;5;21;01mcsv\u001b[39;00m\u001b[38;5;241m,\u001b[39m \u001b[38;5;21;01mjson\u001b[39;00m\u001b[38;5;241m,\u001b[39m \u001b[38;5;21;01msys\u001b[39;00m\u001b[38;5;241m,\u001b[39m \u001b[38;5;21;01mmath\u001b[39;00m\n\u001b[1;32m----> 2\u001b[0m \u001b[38;5;28;01mfrom\u001b[39;00m \u001b[38;5;21;01mmatplotlib\u001b[39;00m \u001b[38;5;28;01mimport\u001b[39;00m pyplot \u001b[38;5;28;01mas\u001b[39;00m plt\n\u001b[0;32m      3\u001b[0m \u001b[38;5;28;01mfrom\u001b[39;00m \u001b[38;5;21;01mdataclasses\u001b[39;00m \u001b[38;5;28;01mimport\u001b[39;00m dataclass\n\u001b[0;32m      5\u001b[0m \u001b[38;5;129m@dataclass\u001b[39m\n\u001b[0;32m      6\u001b[0m \u001b[38;5;28;01mclass\u001b[39;00m \u001b[38;5;21;01mGraph\u001b[39;00m:\n",
      "\u001b[1;31mModuleNotFoundError\u001b[0m: No module named 'matplotlib'"
     ]
    }
   ],
   "source": [
    "import csv, json, sys, math\n",
    "from matplotlib import pyplot as plt\n",
    "from dataclasses import dataclass\n",
    "\n",
    "@dataclass\n",
    "class Graph:\n",
    "    v_count = 0 # number of vertexes\n",
    "    edge_list = [] # list of edges\n",
    "    adjac_m = [] # adjacent matrix\n",
    "    avg_d = 0.0 # average vertexes degree\n",
    "    max_d = 0 # maximal vertexes degree\n",
    "    min_d = sys.maxsize # minimal vertexes degree\n",
    "\n",
    "    def read_data(self, file_path: str) -> None:\n",
    "        try:\n",
    "            with open(file_path) as f:\n",
    "                data = csv.reader(f, delimiter=\";\")\n",
    "                # O(n)\n",
    "                v = set()\n",
    "                for r in data:\n",
    "                    v.add(r[0])\n",
    "                    v.add(r[1])\n",
    "                    if int(r[0]) == int(r[1]):\n",
    "                        print(\"Loops are not allowed in the dataset\")\n",
    "                        sys.exit()\n",
    "                    self.edge_list.append((int(r[0]), int(r[1])))\n",
    "\n",
    "                self.v_count = len(v)\n",
    "\n",
    "            # O(n^2)\n",
    "            for i in range(self.v_count):\n",
    "                my_list = [0] * self.v_count\n",
    "                for j in self.edge_list:\n",
    "                    if j[1] == (i + 1):\n",
    "                        my_list[j[0] - 1] = 1\n",
    "                    if j[0] == (i + 1):\n",
    "                        my_list[j[1] - 1] = 1\n",
    "                self.adjac_m.append(my_list)\n",
    "\n",
    "            # O(n^2)\n",
    "            for i in self.adjac_m:\n",
    "                v_d = list(i).count(1)\n",
    "                if v_d > self.max_d:\n",
    "                    self.max_d = v_d\n",
    "                if v_d < self.min_d:\n",
    "                    self.min_d = v_d\n",
    "\n",
    "            self.avg_d = round(len(self.edge_list) * 2 / self.v_count, 2)\n",
    "\n",
    "        except (IndexError, ValueError):\n",
    "            print(f\"Vertex numbers must be represented by an ascending series \"\n",
    "                  f\"without skipped numbers\")\n",
    "            sys.exit()\n",
    "\n",
    "    def print_adjac_m(self) -> None:\n",
    "        print(\"\\nADJACENT MATRIX\")\n",
    "        print(\"-——\" * (self.v_count - 1), end=\"\")\n",
    "        print(\"-\")\n",
    "        for x, i in enumerate(self.adjac_m):\n",
    "            for y, j in enumerate(i):\n",
    "                if y == self.v_count - 1:\n",
    "                    print(j, end=\"\")\n",
    "                    continue\n",
    "                print(j, end=\"  \")\n",
    "            if x != len(self.adjac_m) - 1:\n",
    "                print(\"\")\n",
    "        print(\"\")\n",
    "        print(\"-——\" * (self.v_count - 1), end=\"\")\n",
    "        print(\"-\")\n",
    "\n",
    "    def print_edge_list(self) -> None:\n",
    "        print(\"\\nLIST OF EDGES\\n[\", end=\"\\n \")\n",
    "        for x, i in enumerate(self.edge_list):\n",
    "            if x % 10 == 0 and x != 0:\n",
    "                print(\"\", end=\"\\n \")\n",
    "            print(f\"{i}, \", end=\"\")\n",
    "        print(\"\\n]\")\n",
    "\n",
    "    def print_degree(self) -> None:\n",
    "        print(f\"\\nMIN. VERTEX DEGREE: {g.min_d}\")\n",
    "        print(f\"MAX. VERTEX DEGREE: {g.max_d}\")\n",
    "        print(f\"AVG. VERTEX DEGREE: {g.avg_d}\\n\")\n",
    "\n",
    "    def print_frequency_degree_hist(self) -> None:\n",
    "        v_d = []\n",
    "        for i in self.adjac_m:\n",
    "            v_d.append(list(i).count(1))\n",
    "        plt.subplots(figsize=(6, 5.2))\n",
    "        plt.hist(v_d, bins=range(g.min_d, g.max_d + 2), align=\"left\",\n",
    "                 edgecolor=\"black\")\n",
    "        plt.xticks(range(g.min_d, g.max_d + 1))\n",
    "        plt.yticks(range(0, math.floor(plt.ylim()[1]) + 1))\n",
    "        plt.ylabel(\"frequency of vertexes\")\n",
    "        plt.xlabel(\"degree of vertexes\")\n",
    "        plt.title(\"Frequency of degrees of vertexes\")\n",
    "        plt.grid(axis=\"y\")\n",
    "        plt.show()"
   ]
  },
  {
   "cell_type": "code",
   "execution_count": null,
   "id": "789b432d-dbde-4dad-b2fd-c5f07472a295",
   "metadata": {
    "pycharm": {
     "is_executing": true
    }
   },
   "outputs": [],
   "source": [
    "g = Graph()\n",
    "g.read_data(\"KarateClub.csv\")\n",
    "g.print_adjac_m()\n",
    "g.print_edge_list()\n",
    "g.print_degree()\n",
    "g.print_frequency_degree_hist()\n"
   ]
  }
 ],
 "metadata": {
  "kernelspec": {
   "display_name": "Python 3 (ipykernel)",
   "language": "python",
   "name": "python3"
  },
  "language_info": {
   "codemirror_mode": {
    "name": "ipython",
    "version": 3
   },
   "file_extension": ".py",
   "mimetype": "text/x-python",
   "name": "python",
   "nbconvert_exporter": "python",
   "pygments_lexer": "ipython3",
   "version": "3.10.8"
  }
 },
 "nbformat": 4,
 "nbformat_minor": 5
}
